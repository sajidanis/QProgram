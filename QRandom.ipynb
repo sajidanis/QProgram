{
 "cells": [
  {
   "cell_type": "code",
   "execution_count": 101,
   "metadata": {},
   "outputs": [],
   "source": [
    "from qiskit import QuantumCircuit, Aer, execute, IBMQ\n",
    "from qiskit.visualization import plot_histogram\n",
    "import numpy as np\n",
    "from math import ceil"
   ]
  },
  {
   "cell_type": "code",
   "execution_count": 53,
   "metadata": {},
   "outputs": [],
   "source": [
    "provider = IBMQ.load_account()"
   ]
  },
  {
   "cell_type": "code",
   "execution_count": 69,
   "metadata": {},
   "outputs": [],
   "source": [
    "backend = provider.get_backend('ibmq_qasm_simulator')\n",
    "backend1 = Aer.get_backend('qasm_simulator')"
   ]
  },
  {
   "cell_type": "markdown",
   "metadata": {},
   "source": [
    "# Generating Random Number of a given bits\n",
    "\n",
    "### Creating a superposition of all the qubits and collapsing the superposition gives a true randomness of the system, giving us a  random number."
   ]
  },
  {
   "cell_type": "code",
   "execution_count": 70,
   "metadata": {},
   "outputs": [],
   "source": [
    "def generateRandomNumber(bits):\n",
    "    qc = QuantumCircuit(bits, bits)\n",
    "    for i in range(bits):\n",
    "        qc.h(i)\n",
    "    qc.measure([x for x in range(bits)], [x for x in range(bits)])\n",
    "    result = execute(qc, backend=backend1, shots=1).result()\n",
    "    count = result.get_counts()\n",
    "    key = [*count]\n",
    "    number = int(key[0], 2)\n",
    "    return number"
   ]
  },
  {
   "cell_type": "markdown",
   "metadata": {},
   "source": [
    "# Generating Random Number in a given Range."
   ]
  },
  {
   "cell_type": "code",
   "execution_count": 76,
   "metadata": {},
   "outputs": [
    {
     "name": "stdout",
     "output_type": "stream",
     "text": [
      "101\n",
      "7\n"
     ]
    }
   ],
   "source": [
    "lb = 5\n",
    "ub = 89\n",
    "lower_bit = str(bin(lb))[2:]\n",
    "upper_bit = ceil(np.log2(ub))\n",
    "print(lower_bit)\n",
    "print(upper_bit)"
   ]
  },
  {
   "cell_type": "code",
   "execution_count": 105,
   "metadata": {},
   "outputs": [
    {
     "name": "stdout",
     "output_type": "stream",
     "text": [
      "<function AerJob.result at 0x7f2818ee8820> ()\n"
     ]
    },
    {
     "data": {
      "image/png": "[encoded data removed]",
      "text/plain": [
       "<Figure size 504x360 with 1 Axes>"
      ]
     },
     "execution_count": 105,
     "metadata": {},
     "output_type": "execute_result"
    }
   ],
   "source": [
    "\n",
    "qc = QuantumCircuit(upper_bit, upper_bit)\n",
    "for i in range(len(lower_bit)):\n",
    "    if(lower_bit[i] == '1'):\n",
    "        qc.x(i)\n",
    "i += 1\n",
    "while(i < upper_bit):\n",
    "    qc.h(i)\n",
    "    i += 1\n",
    "qc.measure([x for x in range(upper_bit)], [x for x in range(upper_bit)])\n",
    "result = execute(qc, backend=backend1, shots=1024).result()\n",
    "count = result.get_counts()\n",
    "plot_histogram(count)"
   ]
  },
  {
   "cell_type": "code",
   "execution_count": 109,
   "metadata": {},
   "outputs": [
    {
     "name": "stdout",
     "output_type": "stream",
     "text": [
      "21\n",
      "29\n",
      "37\n",
      "45\n",
      "53\n",
      "61\n",
      "69\n",
      "77\n",
      "5\n",
      "85\n",
      "93\n",
      "101\n",
      "109\n",
      "117\n",
      "125\n",
      "13\n"
     ]
    }
   ],
   "source": [
    "key = [*count]\n",
    "for i in key:\n",
    "    number = int(i, 2)\n",
    "    print(number)"
   ]
  },
  {
   "cell_type": "code",
   "execution_count": 110,
   "metadata": {},
   "outputs": [
    {
     "data": {
      "text/plain": [
       "'0b1011001'"
      ]
     },
     "execution_count": 110,
     "metadata": {},
     "output_type": "execute_result"
    }
   ],
   "source": [
    "bin(ub)"
   ]
  },
  {
   "cell_type": "code",
   "execution_count": 104,
   "metadata": {},
   "outputs": [
    {
     "name": "stdout",
     "output_type": "stream",
     "text": [
      "<function AerJob.result at 0x7f2818ee8820> ()\n",
      "23797\n"
     ]
    }
   ],
   "source": [
    "print(generateRandomNumber(16))"
   ]
  },
  {
   "cell_type": "code",
   "execution_count": 49,
   "metadata": {},
   "outputs": [
    {
     "name": "stdout",
     "output_type": "stream",
     "text": [
      "<function AerJob.result at 0x7f2818ee8820> ()\n",
      "24\n",
      "<function AerJob.result at 0x7f2818ee8820> ()\n",
      "2\n",
      "<function AerJob.result at 0x7f2818ee8820> ()\n",
      "15\n",
      "<function AerJob.result at 0x7f2818ee8820> ()\n",
      "10\n",
      "<function AerJob.result at 0x7f2818ee8820> ()\n",
      "15\n",
      "<function AerJob.result at 0x7f2818ee8820> ()\n",
      "9\n",
      "<function AerJob.result at 0x7f2818ee8820> ()\n",
      "24\n",
      "<function AerJob.result at 0x7f2818ee8820> ()\n",
      "4\n",
      "<function AerJob.result at 0x7f2818ee8820> ()\n",
      "26\n",
      "<function AerJob.result at 0x7f2818ee8820> ()\n",
      "0\n",
      "<function AerJob.result at 0x7f2818ee8820> ()\n",
      "16\n",
      "<function AerJob.result at 0x7f2818ee8820> ()\n",
      "18\n",
      "<function AerJob.result at 0x7f2818ee8820> ()\n",
      "1\n",
      "<function AerJob.result at 0x7f2818ee8820> ()\n",
      "13\n",
      "<function AerJob.result at 0x7f2818ee8820> ()\n",
      "25\n",
      "<function AerJob.result at 0x7f2818ee8820> ()\n",
      "14\n",
      "<function AerJob.result at 0x7f2818ee8820> ()\n",
      "12\n",
      "<function AerJob.result at 0x7f2818ee8820> ()\n",
      "28\n",
      "<function AerJob.result at 0x7f2818ee8820> ()\n",
      "3\n",
      "<function AerJob.result at 0x7f2818ee8820> ()\n",
      "18\n",
      "<function AerJob.result at 0x7f2818ee8820> ()\n",
      "7\n",
      "<function AerJob.result at 0x7f2818ee8820> ()\n",
      "26\n",
      "<function AerJob.result at 0x7f2818ee8820> ()\n",
      "28\n",
      "<function AerJob.result at 0x7f2818ee8820> ()\n",
      "17\n",
      "<function AerJob.result at 0x7f2818ee8820> ()\n",
      "9\n",
      "<function AerJob.result at 0x7f2818ee8820> ()\n",
      "4\n",
      "<function AerJob.result at 0x7f2818ee8820> ()\n",
      "5\n",
      "<function AerJob.result at 0x7f2818ee8820> ()\n",
      "23\n",
      "<function AerJob.result at 0x7f2818ee8820> ()\n",
      "9\n",
      "<function AerJob.result at 0x7f2818ee8820> ()\n",
      "17\n",
      "<function AerJob.result at 0x7f2818ee8820> ()\n",
      "6\n",
      "<function AerJob.result at 0x7f2818ee8820> ()\n",
      "2\n",
      "<function AerJob.result at 0x7f2818ee8820> ()\n",
      "28\n",
      "<function AerJob.result at 0x7f2818ee8820> ()\n",
      "15\n",
      "<function AerJob.result at 0x7f2818ee8820> ()\n",
      "28\n",
      "<function AerJob.result at 0x7f2818ee8820> ()\n",
      "30\n",
      "<function AerJob.result at 0x7f2818ee8820> ()\n",
      "24\n",
      "<function AerJob.result at 0x7f2818ee8820> ()\n",
      "27\n",
      "<function AerJob.result at 0x7f2818ee8820> ()\n",
      "10\n",
      "<function AerJob.result at 0x7f2818ee8820> ()\n",
      "25\n",
      "<function AerJob.result at 0x7f2818ee8820> ()\n",
      "2\n",
      "<function AerJob.result at 0x7f2818ee8820> ()\n",
      "31\n",
      "<function AerJob.result at 0x7f2818ee8820> ()\n",
      "14\n",
      "<function AerJob.result at 0x7f2818ee8820> ()\n",
      "24\n",
      "<function AerJob.result at 0x7f2818ee8820> ()\n",
      "21\n",
      "<function AerJob.result at 0x7f2818ee8820> ()\n",
      "10\n",
      "<function AerJob.result at 0x7f2818ee8820> ()\n",
      "30\n",
      "<function AerJob.result at 0x7f2818ee8820> ()\n",
      "11\n",
      "<function AerJob.result at 0x7f2818ee8820> ()\n",
      "0\n",
      "<function AerJob.result at 0x7f2818ee8820> ()\n",
      "23\n",
      "<function AerJob.result at 0x7f2818ee8820> ()\n",
      "22\n",
      "<function AerJob.result at 0x7f2818ee8820> ()\n",
      "14\n",
      "<function AerJob.result at 0x7f2818ee8820> ()\n",
      "27\n",
      "<function AerJob.result at 0x7f2818ee8820> ()\n",
      "21\n",
      "<function AerJob.result at 0x7f2818ee8820> ()\n",
      "8\n",
      "<function AerJob.result at 0x7f2818ee8820> ()\n",
      "3\n",
      "<function AerJob.result at 0x7f2818ee8820> ()\n",
      "27\n",
      "<function AerJob.result at 0x7f2818ee8820> ()\n",
      "5\n",
      "<function AerJob.result at 0x7f2818ee8820> ()\n",
      "15\n",
      "<function AerJob.result at 0x7f2818ee8820> ()\n",
      "28\n",
      "<function AerJob.result at 0x7f2818ee8820> ()\n",
      "6\n",
      "<function AerJob.result at 0x7f2818ee8820> ()\n",
      "7\n",
      "<function AerJob.result at 0x7f2818ee8820> ()\n",
      "25\n",
      "<function AerJob.result at 0x7f2818ee8820> ()\n",
      "13\n",
      "<function AerJob.result at 0x7f2818ee8820> ()\n",
      "22\n",
      "<function AerJob.result at 0x7f2818ee8820> ()\n",
      "8\n",
      "<function AerJob.result at 0x7f2818ee8820> ()\n",
      "27\n",
      "<function AerJob.result at 0x7f2818ee8820> ()\n",
      "8\n",
      "<function AerJob.result at 0x7f2818ee8820> ()\n",
      "5\n",
      "<function AerJob.result at 0x7f2818ee8820> ()\n",
      "31\n",
      "<function AerJob.result at 0x7f2818ee8820> ()\n",
      "30\n",
      "<function AerJob.result at 0x7f2818ee8820> ()\n",
      "21\n",
      "<function AerJob.result at 0x7f2818ee8820> ()\n",
      "23\n",
      "<function AerJob.result at 0x7f2818ee8820> ()\n",
      "24\n",
      "<function AerJob.result at 0x7f2818ee8820> ()\n",
      "1\n",
      "<function AerJob.result at 0x7f2818ee8820> ()\n",
      "1\n",
      "<function AerJob.result at 0x7f2818ee8820> ()\n",
      "11\n",
      "<function AerJob.result at 0x7f2818ee8820> ()\n",
      "9\n",
      "<function AerJob.result at 0x7f2818ee8820> ()\n",
      "30\n",
      "<function AerJob.result at 0x7f2818ee8820> ()\n",
      "29\n",
      "<function AerJob.result at 0x7f2818ee8820> ()\n",
      "21\n",
      "<function AerJob.result at 0x7f2818ee8820> ()\n",
      "19\n",
      "<function AerJob.result at 0x7f2818ee8820> ()\n",
      "23\n",
      "<function AerJob.result at 0x7f2818ee8820> ()\n",
      "25\n",
      "<function AerJob.result at 0x7f2818ee8820> ()\n",
      "28\n",
      "<function AerJob.result at 0x7f2818ee8820> ()\n",
      "29\n",
      "<function AerJob.result at 0x7f2818ee8820> ()\n",
      "4\n",
      "<function AerJob.result at 0x7f2818ee8820> ()\n",
      "26\n",
      "<function AerJob.result at 0x7f2818ee8820> ()\n",
      "30\n",
      "<function AerJob.result at 0x7f2818ee8820> ()\n",
      "31\n",
      "<function AerJob.result at 0x7f2818ee8820> ()\n",
      "21\n",
      "<function AerJob.result at 0x7f2818ee8820> ()\n",
      "25\n",
      "<function AerJob.result at 0x7f2818ee8820> ()\n",
      "26\n",
      "<function AerJob.result at 0x7f2818ee8820> ()\n",
      "26\n",
      "<function AerJob.result at 0x7f2818ee8820> ()\n",
      "27\n",
      "<function AerJob.result at 0x7f2818ee8820> ()\n",
      "3\n",
      "<function AerJob.result at 0x7f2818ee8820> ()\n",
      "26\n",
      "<function AerJob.result at 0x7f2818ee8820> ()\n",
      "23\n",
      "<function AerJob.result at 0x7f2818ee8820> ()\n",
      "8\n",
      "<function AerJob.result at 0x7f2818ee8820> ()\n",
      "21\n"
     ]
    }
   ],
   "source": [
    "for i in range(100):\n",
    "    print(generateRandomNumber(5))"
   ]
  },
  {
   "cell_type": "code",
   "execution_count": 37,
   "metadata": {},
   "outputs": [
    {
     "name": "stdout",
     "output_type": "stream",
     "text": [
      "<function AerJob.result at 0x7f2818ee8820> ()\n"
     ]
    }
   ],
   "source": []
  },
  {
   "cell_type": "code",
   "execution_count": 41,
   "metadata": {},
   "outputs": [
    {
     "name": "stdout",
     "output_type": "stream",
     "text": [
      "Number: 7\n"
     ]
    }
   ],
   "source": []
  }
 ],
 "metadata": {
  "kernelspec": {
   "display_name": "QiskitDevEnv",
   "language": "python",
   "name": "qiskitdevenv"
  },
  "language_info": {
   "codemirror_mode": {
    "name": "ipython",
    "version": 3
   },
   "file_extension": ".py",
   "mimetype": "text/x-python",
   "name": "python",
   "nbconvert_exporter": "python",
   "pygments_lexer": "ipython3",
   "version": "3.8.5"
  }
 },
 "nbformat": 4,
 "nbformat_minor": 4
}
